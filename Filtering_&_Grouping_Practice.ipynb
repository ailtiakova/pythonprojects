{
  "nbformat": 4,
  "nbformat_minor": 0,
  "metadata": {
    "colab": {
      "name": "Filtering & Grouping Practice",
      "provenance": [],
      "collapsed_sections": [],
      "authorship_tag": "ABX9TyPYL3WsNA2eRCkHHIB2UpgW",
      "include_colab_link": true
    },
    "kernelspec": {
      "name": "python3",
      "display_name": "Python 3"
    }
  },
  "cells": [
    {
      "cell_type": "markdown",
      "metadata": {
        "id": "view-in-github",
        "colab_type": "text"
      },
      "source": [
        "<a href=\"https://colab.research.google.com/github/ailtiakova/pythonprojects/blob/master/Filtering_%26_Grouping_Practice.ipynb\" target=\"_parent\"><img src=\"https://colab.research.google.com/assets/colab-badge.svg\" alt=\"Open In Colab\"/></a>"
      ]
    },
    {
      "cell_type": "code",
      "metadata": {
        "id": "8Rw0gKsR91xH",
        "outputId": "a5735fb7-3ac6-45bd-9a8a-9ad419bec132",
        "colab": {
          "base_uri": "https://localhost:8080/",
          "height": 204
        }
      },
      "source": [
        "import pandas as pd\n",
        "\n",
        "df = pd.read_csv('https://raw.githubusercontent.com/SimonCarryer/pandas_tutorial/master/data/dog_registrations.csv')\n",
        "\n",
        "df['ValidDate'] = pd.to_datetime(df['ValidDate']) # Just formatting the data a little bit nicer\n",
        "\n",
        "df.head()"
      ],
      "execution_count": null,
      "outputs": [
        {
          "output_type": "execute_result",
          "data": {
            "text/html": [
              "<div>\n",
              "<style scoped>\n",
              "    .dataframe tbody tr th:only-of-type {\n",
              "        vertical-align: middle;\n",
              "    }\n",
              "\n",
              "    .dataframe tbody tr th {\n",
              "        vertical-align: top;\n",
              "    }\n",
              "\n",
              "    .dataframe thead th {\n",
              "        text-align: right;\n",
              "    }\n",
              "</style>\n",
              "<table border=\"1\" class=\"dataframe\">\n",
              "  <thead>\n",
              "    <tr style=\"text-align: right;\">\n",
              "      <th></th>\n",
              "      <th>LicenseType</th>\n",
              "      <th>Breed</th>\n",
              "      <th>Color</th>\n",
              "      <th>DogName</th>\n",
              "      <th>OwnerZip</th>\n",
              "      <th>ExpYear</th>\n",
              "      <th>ValidDate</th>\n",
              "    </tr>\n",
              "  </thead>\n",
              "  <tbody>\n",
              "    <tr>\n",
              "      <th>0</th>\n",
              "      <td>Dog Individual Female</td>\n",
              "      <td>AM PIT BULL TERRIER</td>\n",
              "      <td>SPOTTED</td>\n",
              "      <td>BUTTER</td>\n",
              "      <td>15001</td>\n",
              "      <td>2007</td>\n",
              "      <td>2007-05-01 15:15:00</td>\n",
              "    </tr>\n",
              "    <tr>\n",
              "      <th>1</th>\n",
              "      <td>Dog Individual Female</td>\n",
              "      <td>AM PIT BULL TERRIER</td>\n",
              "      <td>BROWN</td>\n",
              "      <td>SABLE</td>\n",
              "      <td>15001</td>\n",
              "      <td>2007</td>\n",
              "      <td>2007-05-01 15:15:00</td>\n",
              "    </tr>\n",
              "    <tr>\n",
              "      <th>2</th>\n",
              "      <td>Dog Individual Neutered Male</td>\n",
              "      <td>MIXED</td>\n",
              "      <td>.</td>\n",
              "      <td>YIP</td>\n",
              "      <td>15001</td>\n",
              "      <td>2007</td>\n",
              "      <td>2007-04-11 15:14:00</td>\n",
              "    </tr>\n",
              "    <tr>\n",
              "      <th>3</th>\n",
              "      <td>Dog Individual Male</td>\n",
              "      <td>DOBERMAN PINSCHER</td>\n",
              "      <td>RED</td>\n",
              "      <td>SABER</td>\n",
              "      <td>15003</td>\n",
              "      <td>2007</td>\n",
              "      <td>2007-04-05 15:00:00</td>\n",
              "    </tr>\n",
              "    <tr>\n",
              "      <th>4</th>\n",
              "      <td>Dog Individual Spayed Female</td>\n",
              "      <td>MIXED</td>\n",
              "      <td>BLACK</td>\n",
              "      <td>DAISY</td>\n",
              "      <td>15003</td>\n",
              "      <td>2007</td>\n",
              "      <td>2007-05-25 12:15:00</td>\n",
              "    </tr>\n",
              "  </tbody>\n",
              "</table>\n",
              "</div>"
            ],
            "text/plain": [
              "                    LicenseType  ...           ValidDate\n",
              "0         Dog Individual Female  ... 2007-05-01 15:15:00\n",
              "1         Dog Individual Female  ... 2007-05-01 15:15:00\n",
              "2  Dog Individual Neutered Male  ... 2007-04-11 15:14:00\n",
              "3           Dog Individual Male  ... 2007-04-05 15:00:00\n",
              "4  Dog Individual Spayed Female  ... 2007-05-25 12:15:00\n",
              "\n",
              "[5 rows x 7 columns]"
            ]
          },
          "metadata": {
            "tags": []
          },
          "execution_count": 1
        }
      ]
    },
    {
      "cell_type": "markdown",
      "metadata": {
        "id": "H3Skz_If-IrX"
      },
      "source": [
        "Filter Data Frame\n"
      ]
    },
    {
      "cell_type": "code",
      "metadata": {
        "id": "9WF6aOHV-ANQ",
        "outputId": "70929f29-92c9-4d4a-8576-b8e6d4272727",
        "colab": {
          "base_uri": "https://localhost:8080/",
          "height": 419
        }
      },
      "source": [
        "colors = df['Color'] == 'BROWN'\n",
        "df.loc[colors]"
      ],
      "execution_count": null,
      "outputs": [
        {
          "output_type": "execute_result",
          "data": {
            "text/html": [
              "<div>\n",
              "<style scoped>\n",
              "    .dataframe tbody tr th:only-of-type {\n",
              "        vertical-align: middle;\n",
              "    }\n",
              "\n",
              "    .dataframe tbody tr th {\n",
              "        vertical-align: top;\n",
              "    }\n",
              "\n",
              "    .dataframe thead th {\n",
              "        text-align: right;\n",
              "    }\n",
              "</style>\n",
              "<table border=\"1\" class=\"dataframe\">\n",
              "  <thead>\n",
              "    <tr style=\"text-align: right;\">\n",
              "      <th></th>\n",
              "      <th>LicenseType</th>\n",
              "      <th>Breed</th>\n",
              "      <th>Color</th>\n",
              "      <th>DogName</th>\n",
              "      <th>OwnerZip</th>\n",
              "      <th>ExpYear</th>\n",
              "      <th>ValidDate</th>\n",
              "    </tr>\n",
              "  </thead>\n",
              "  <tbody>\n",
              "    <tr>\n",
              "      <th>1</th>\n",
              "      <td>Dog Individual Female</td>\n",
              "      <td>AM PIT BULL TERRIER</td>\n",
              "      <td>BROWN</td>\n",
              "      <td>SABLE</td>\n",
              "      <td>15001</td>\n",
              "      <td>2007</td>\n",
              "      <td>2007-05-01 15:15:00</td>\n",
              "    </tr>\n",
              "    <tr>\n",
              "      <th>15</th>\n",
              "      <td>Dog Individual Female</td>\n",
              "      <td>BOXER</td>\n",
              "      <td>BROWN</td>\n",
              "      <td>CHLOE</td>\n",
              "      <td>15003</td>\n",
              "      <td>2007</td>\n",
              "      <td>2007-06-07 14:24:00</td>\n",
              "    </tr>\n",
              "    <tr>\n",
              "      <th>30</th>\n",
              "      <td>Dog Individual Neutered Male</td>\n",
              "      <td>LABRADOR RETRIEVER</td>\n",
              "      <td>BROWN</td>\n",
              "      <td>GUNNER</td>\n",
              "      <td>15003</td>\n",
              "      <td>2007</td>\n",
              "      <td>2007-02-02 13:41:00</td>\n",
              "    </tr>\n",
              "    <tr>\n",
              "      <th>32</th>\n",
              "      <td>Dog Individual Spayed Female</td>\n",
              "      <td>LABRADOR RETRIEVER</td>\n",
              "      <td>BROWN</td>\n",
              "      <td>PENNY</td>\n",
              "      <td>15003</td>\n",
              "      <td>2007</td>\n",
              "      <td>2007-10-02 12:31:00</td>\n",
              "    </tr>\n",
              "    <tr>\n",
              "      <th>34</th>\n",
              "      <td>Dog Individual Spayed Female</td>\n",
              "      <td>LABRADOR RETRIEVER</td>\n",
              "      <td>BROWN</td>\n",
              "      <td>CASEY</td>\n",
              "      <td>15005</td>\n",
              "      <td>2007</td>\n",
              "      <td>2006-12-27 14:50:00</td>\n",
              "    </tr>\n",
              "    <tr>\n",
              "      <th>...</th>\n",
              "      <td>...</td>\n",
              "      <td>...</td>\n",
              "      <td>...</td>\n",
              "      <td>...</td>\n",
              "      <td>...</td>\n",
              "      <td>...</td>\n",
              "      <td>...</td>\n",
              "    </tr>\n",
              "    <tr>\n",
              "      <th>97427</th>\n",
              "      <td>Dog Individual Spayed Female</td>\n",
              "      <td>BOXER</td>\n",
              "      <td>BROWN</td>\n",
              "      <td>CUPCAKE</td>\n",
              "      <td>16046</td>\n",
              "      <td>2009</td>\n",
              "      <td>2008-12-15 09:22:00</td>\n",
              "    </tr>\n",
              "    <tr>\n",
              "      <th>97432</th>\n",
              "      <td>Dog Individual Male</td>\n",
              "      <td>YORKSHIRE TERRIER</td>\n",
              "      <td>BROWN</td>\n",
              "      <td>FLUFFY</td>\n",
              "      <td>16046</td>\n",
              "      <td>2009</td>\n",
              "      <td>2009-09-28 16:06:00</td>\n",
              "    </tr>\n",
              "    <tr>\n",
              "      <th>97437</th>\n",
              "      <td>Dog Individual Neutered Male</td>\n",
              "      <td>LABRADOR RETRIEVER</td>\n",
              "      <td>BROWN</td>\n",
              "      <td>FEZZIK</td>\n",
              "      <td>16059</td>\n",
              "      <td>2009</td>\n",
              "      <td>2009-02-11 10:10:00</td>\n",
              "    </tr>\n",
              "    <tr>\n",
              "      <th>97444</th>\n",
              "      <td>Dog Individual Spayed Female</td>\n",
              "      <td>BEAGLE MIX</td>\n",
              "      <td>BROWN</td>\n",
              "      <td>SOFIA CLARK</td>\n",
              "      <td>16059</td>\n",
              "      <td>2009</td>\n",
              "      <td>2009-03-13 14:28:00</td>\n",
              "    </tr>\n",
              "    <tr>\n",
              "      <th>97449</th>\n",
              "      <td>Dog Individual Male</td>\n",
              "      <td>LABRADOR RETRIEVER</td>\n",
              "      <td>BROWN</td>\n",
              "      <td>MAX</td>\n",
              "      <td>16059</td>\n",
              "      <td>2009</td>\n",
              "      <td>2009-06-03 14:19:00</td>\n",
              "    </tr>\n",
              "  </tbody>\n",
              "</table>\n",
              "<p>11920 rows × 7 columns</p>\n",
              "</div>"
            ],
            "text/plain": [
              "                        LicenseType  ...           ValidDate\n",
              "1             Dog Individual Female  ... 2007-05-01 15:15:00\n",
              "15            Dog Individual Female  ... 2007-06-07 14:24:00\n",
              "30     Dog Individual Neutered Male  ... 2007-02-02 13:41:00\n",
              "32     Dog Individual Spayed Female  ... 2007-10-02 12:31:00\n",
              "34     Dog Individual Spayed Female  ... 2006-12-27 14:50:00\n",
              "...                             ...  ...                 ...\n",
              "97427  Dog Individual Spayed Female  ... 2008-12-15 09:22:00\n",
              "97432           Dog Individual Male  ... 2009-09-28 16:06:00\n",
              "97437  Dog Individual Neutered Male  ... 2009-02-11 10:10:00\n",
              "97444  Dog Individual Spayed Female  ... 2009-03-13 14:28:00\n",
              "97449           Dog Individual Male  ... 2009-06-03 14:19:00\n",
              "\n",
              "[11920 rows x 7 columns]"
            ]
          },
          "metadata": {
            "tags": []
          },
          "execution_count": 3
        }
      ]
    },
    {
      "cell_type": "code",
      "metadata": {
        "id": "RNujcozF-66Y",
        "outputId": "f4043c19-ab56-491a-a094-c98fc03aed7a",
        "colab": {
          "base_uri": "https://localhost:8080/",
          "height": 204
        }
      },
      "source": [
        "df[colors].head()"
      ],
      "execution_count": null,
      "outputs": [
        {
          "output_type": "execute_result",
          "data": {
            "text/html": [
              "<div>\n",
              "<style scoped>\n",
              "    .dataframe tbody tr th:only-of-type {\n",
              "        vertical-align: middle;\n",
              "    }\n",
              "\n",
              "    .dataframe tbody tr th {\n",
              "        vertical-align: top;\n",
              "    }\n",
              "\n",
              "    .dataframe thead th {\n",
              "        text-align: right;\n",
              "    }\n",
              "</style>\n",
              "<table border=\"1\" class=\"dataframe\">\n",
              "  <thead>\n",
              "    <tr style=\"text-align: right;\">\n",
              "      <th></th>\n",
              "      <th>LicenseType</th>\n",
              "      <th>Breed</th>\n",
              "      <th>Color</th>\n",
              "      <th>DogName</th>\n",
              "      <th>OwnerZip</th>\n",
              "      <th>ExpYear</th>\n",
              "      <th>ValidDate</th>\n",
              "    </tr>\n",
              "  </thead>\n",
              "  <tbody>\n",
              "    <tr>\n",
              "      <th>1</th>\n",
              "      <td>Dog Individual Female</td>\n",
              "      <td>AM PIT BULL TERRIER</td>\n",
              "      <td>BROWN</td>\n",
              "      <td>SABLE</td>\n",
              "      <td>15001</td>\n",
              "      <td>2007</td>\n",
              "      <td>2007-05-01 15:15:00</td>\n",
              "    </tr>\n",
              "    <tr>\n",
              "      <th>15</th>\n",
              "      <td>Dog Individual Female</td>\n",
              "      <td>BOXER</td>\n",
              "      <td>BROWN</td>\n",
              "      <td>CHLOE</td>\n",
              "      <td>15003</td>\n",
              "      <td>2007</td>\n",
              "      <td>2007-06-07 14:24:00</td>\n",
              "    </tr>\n",
              "    <tr>\n",
              "      <th>30</th>\n",
              "      <td>Dog Individual Neutered Male</td>\n",
              "      <td>LABRADOR RETRIEVER</td>\n",
              "      <td>BROWN</td>\n",
              "      <td>GUNNER</td>\n",
              "      <td>15003</td>\n",
              "      <td>2007</td>\n",
              "      <td>2007-02-02 13:41:00</td>\n",
              "    </tr>\n",
              "    <tr>\n",
              "      <th>32</th>\n",
              "      <td>Dog Individual Spayed Female</td>\n",
              "      <td>LABRADOR RETRIEVER</td>\n",
              "      <td>BROWN</td>\n",
              "      <td>PENNY</td>\n",
              "      <td>15003</td>\n",
              "      <td>2007</td>\n",
              "      <td>2007-10-02 12:31:00</td>\n",
              "    </tr>\n",
              "    <tr>\n",
              "      <th>34</th>\n",
              "      <td>Dog Individual Spayed Female</td>\n",
              "      <td>LABRADOR RETRIEVER</td>\n",
              "      <td>BROWN</td>\n",
              "      <td>CASEY</td>\n",
              "      <td>15005</td>\n",
              "      <td>2007</td>\n",
              "      <td>2006-12-27 14:50:00</td>\n",
              "    </tr>\n",
              "  </tbody>\n",
              "</table>\n",
              "</div>"
            ],
            "text/plain": [
              "                     LicenseType  ...           ValidDate\n",
              "1          Dog Individual Female  ... 2007-05-01 15:15:00\n",
              "15         Dog Individual Female  ... 2007-06-07 14:24:00\n",
              "30  Dog Individual Neutered Male  ... 2007-02-02 13:41:00\n",
              "32  Dog Individual Spayed Female  ... 2007-10-02 12:31:00\n",
              "34  Dog Individual Spayed Female  ... 2006-12-27 14:50:00\n",
              "\n",
              "[5 rows x 7 columns]"
            ]
          },
          "metadata": {
            "tags": []
          },
          "execution_count": 5
        }
      ]
    },
    {
      "cell_type": "code",
      "metadata": {
        "id": "A224Bo7q_Fae",
        "outputId": "ce63f63e-a06c-4b16-e1af-8185c04a0eaa",
        "colab": {
          "base_uri": "https://localhost:8080/",
          "height": 221
        }
      },
      "source": [
        "df['Color'].isin(['BROWN'])"
      ],
      "execution_count": null,
      "outputs": [
        {
          "output_type": "execute_result",
          "data": {
            "text/plain": [
              "0        False\n",
              "1         True\n",
              "2        False\n",
              "3        False\n",
              "4        False\n",
              "         ...  \n",
              "97457    False\n",
              "97458    False\n",
              "97459    False\n",
              "97460    False\n",
              "97461    False\n",
              "Name: Color, Length: 97462, dtype: bool"
            ]
          },
          "metadata": {
            "tags": []
          },
          "execution_count": 9
        }
      ]
    },
    {
      "cell_type": "code",
      "metadata": {
        "id": "Uy5KWdBVACSO",
        "outputId": "824c3380-74b1-4a12-eff2-5966f36fd127",
        "colab": {
          "base_uri": "https://localhost:8080/",
          "height": 221
        }
      },
      "source": [
        "dates == df['ValidDate'].between('20070501', '20080601')"
      ],
      "execution_count": null,
      "outputs": [
        {
          "output_type": "execute_result",
          "data": {
            "text/plain": [
              "0        True\n",
              "1        True\n",
              "2        True\n",
              "3        True\n",
              "4        True\n",
              "         ... \n",
              "97457    True\n",
              "97458    True\n",
              "97459    True\n",
              "97460    True\n",
              "97461    True\n",
              "Name: ValidDate, Length: 97462, dtype: bool"
            ]
          },
          "metadata": {
            "tags": []
          },
          "execution_count": 13
        }
      ]
    },
    {
      "cell_type": "code",
      "metadata": {
        "id": "WU03VguIAKjt",
        "outputId": "d40f233a-c782-48d0-a875-916c4f7cb50d",
        "colab": {
          "base_uri": "https://localhost:8080/",
          "height": 419
        }
      },
      "source": [
        "df.loc[dates]"
      ],
      "execution_count": null,
      "outputs": [
        {
          "output_type": "execute_result",
          "data": {
            "text/html": [
              "<div>\n",
              "<style scoped>\n",
              "    .dataframe tbody tr th:only-of-type {\n",
              "        vertical-align: middle;\n",
              "    }\n",
              "\n",
              "    .dataframe tbody tr th {\n",
              "        vertical-align: top;\n",
              "    }\n",
              "\n",
              "    .dataframe thead th {\n",
              "        text-align: right;\n",
              "    }\n",
              "</style>\n",
              "<table border=\"1\" class=\"dataframe\">\n",
              "  <thead>\n",
              "    <tr style=\"text-align: right;\">\n",
              "      <th></th>\n",
              "      <th>LicenseType</th>\n",
              "      <th>Breed</th>\n",
              "      <th>Color</th>\n",
              "      <th>DogName</th>\n",
              "      <th>OwnerZip</th>\n",
              "      <th>ExpYear</th>\n",
              "      <th>ValidDate</th>\n",
              "    </tr>\n",
              "  </thead>\n",
              "  <tbody>\n",
              "    <tr>\n",
              "      <th>0</th>\n",
              "      <td>Dog Individual Female</td>\n",
              "      <td>AM PIT BULL TERRIER</td>\n",
              "      <td>SPOTTED</td>\n",
              "      <td>BUTTER</td>\n",
              "      <td>15001</td>\n",
              "      <td>2007</td>\n",
              "      <td>2007-05-01 15:15:00</td>\n",
              "    </tr>\n",
              "    <tr>\n",
              "      <th>1</th>\n",
              "      <td>Dog Individual Female</td>\n",
              "      <td>AM PIT BULL TERRIER</td>\n",
              "      <td>BROWN</td>\n",
              "      <td>SABLE</td>\n",
              "      <td>15001</td>\n",
              "      <td>2007</td>\n",
              "      <td>2007-05-01 15:15:00</td>\n",
              "    </tr>\n",
              "    <tr>\n",
              "      <th>4</th>\n",
              "      <td>Dog Individual Spayed Female</td>\n",
              "      <td>MIXED</td>\n",
              "      <td>BLACK</td>\n",
              "      <td>DAISY</td>\n",
              "      <td>15003</td>\n",
              "      <td>2007</td>\n",
              "      <td>2007-05-25 12:15:00</td>\n",
              "    </tr>\n",
              "    <tr>\n",
              "      <th>5</th>\n",
              "      <td>Dog Individual Neutered Male</td>\n",
              "      <td>MIXED</td>\n",
              "      <td>SPOTTED</td>\n",
              "      <td>SCOOTER</td>\n",
              "      <td>15003</td>\n",
              "      <td>2007</td>\n",
              "      <td>2007-06-19 12:13:00</td>\n",
              "    </tr>\n",
              "    <tr>\n",
              "      <th>6</th>\n",
              "      <td>Dog Individual Spayed Female</td>\n",
              "      <td>RAT TERRIER</td>\n",
              "      <td>MULTI</td>\n",
              "      <td>TINKY</td>\n",
              "      <td>15003</td>\n",
              "      <td>2007</td>\n",
              "      <td>2007-07-13 13:35:00</td>\n",
              "    </tr>\n",
              "    <tr>\n",
              "      <th>...</th>\n",
              "      <td>...</td>\n",
              "      <td>...</td>\n",
              "      <td>...</td>\n",
              "      <td>...</td>\n",
              "      <td>...</td>\n",
              "      <td>...</td>\n",
              "      <td>...</td>\n",
              "    </tr>\n",
              "    <tr>\n",
              "      <th>66214</th>\n",
              "      <td>Dog Individual Spayed Female</td>\n",
              "      <td>MIXED</td>\n",
              "      <td>GOLD</td>\n",
              "      <td>MAKELA</td>\n",
              "      <td>16059</td>\n",
              "      <td>2008</td>\n",
              "      <td>2008-03-31 13:23:00</td>\n",
              "    </tr>\n",
              "    <tr>\n",
              "      <th>66215</th>\n",
              "      <td>Dog Individual Male</td>\n",
              "      <td>GER SHEPHERD</td>\n",
              "      <td>BLACK/TAN</td>\n",
              "      <td>DUKE</td>\n",
              "      <td>16066</td>\n",
              "      <td>2008</td>\n",
              "      <td>2008-05-27 12:15:00</td>\n",
              "    </tr>\n",
              "    <tr>\n",
              "      <th>66216</th>\n",
              "      <td>Dog Individual Spayed Female</td>\n",
              "      <td>SIB HUSKY</td>\n",
              "      <td>RED</td>\n",
              "      <td>RIKKU</td>\n",
              "      <td>16066</td>\n",
              "      <td>2008</td>\n",
              "      <td>2008-01-16 15:05:00</td>\n",
              "    </tr>\n",
              "    <tr>\n",
              "      <th>78817</th>\n",
              "      <td>Dog Individual Neutered Male</td>\n",
              "      <td>AM BULLDOG</td>\n",
              "      <td>WHITE</td>\n",
              "      <td>KONG</td>\n",
              "      <td>15122</td>\n",
              "      <td>2009</td>\n",
              "      <td>2008-02-19 13:19:00</td>\n",
              "    </tr>\n",
              "    <tr>\n",
              "      <th>86480</th>\n",
              "      <td>Dog Lifetime Neutered Male</td>\n",
              "      <td>AM PIT BULL TERRIER</td>\n",
              "      <td>BRINDLE</td>\n",
              "      <td>CHAMP</td>\n",
              "      <td>15205</td>\n",
              "      <td>2009</td>\n",
              "      <td>2008-05-01 09:24:00</td>\n",
              "    </tr>\n",
              "  </tbody>\n",
              "</table>\n",
              "<p>40482 rows × 7 columns</p>\n",
              "</div>"
            ],
            "text/plain": [
              "                        LicenseType  ...           ValidDate\n",
              "0             Dog Individual Female  ... 2007-05-01 15:15:00\n",
              "1             Dog Individual Female  ... 2007-05-01 15:15:00\n",
              "4      Dog Individual Spayed Female  ... 2007-05-25 12:15:00\n",
              "5      Dog Individual Neutered Male  ... 2007-06-19 12:13:00\n",
              "6      Dog Individual Spayed Female  ... 2007-07-13 13:35:00\n",
              "...                             ...  ...                 ...\n",
              "66214  Dog Individual Spayed Female  ... 2008-03-31 13:23:00\n",
              "66215           Dog Individual Male  ... 2008-05-27 12:15:00\n",
              "66216  Dog Individual Spayed Female  ... 2008-01-16 15:05:00\n",
              "78817  Dog Individual Neutered Male  ... 2008-02-19 13:19:00\n",
              "86480    Dog Lifetime Neutered Male  ... 2008-05-01 09:24:00\n",
              "\n",
              "[40482 rows x 7 columns]"
            ]
          },
          "metadata": {
            "tags": []
          },
          "execution_count": 15
        }
      ]
    },
    {
      "cell_type": "code",
      "metadata": {
        "id": "QAzgcRafCgRO",
        "outputId": "ae48d6e8-b007-40fb-daaa-5354c92968ce",
        "colab": {
          "base_uri": "https://localhost:8080/",
          "height": 221
        }
      },
      "source": [
        "license == df['LicenseType'].isnull()\n"
      ],
      "execution_count": null,
      "outputs": [
        {
          "output_type": "execute_result",
          "data": {
            "text/plain": [
              "0        False\n",
              "1        False\n",
              "2        False\n",
              "3        False\n",
              "4        False\n",
              "         ...  \n",
              "97457    False\n",
              "97458    False\n",
              "97459    False\n",
              "97460    False\n",
              "97461    False\n",
              "Name: LicenseType, Length: 97462, dtype: bool"
            ]
          },
          "metadata": {
            "tags": []
          },
          "execution_count": 21
        }
      ]
    },
    {
      "cell_type": "code",
      "metadata": {
        "id": "zygi_-5aDQNW",
        "outputId": "d5123b99-e0e0-4f6e-e165-1d13cd52c338",
        "colab": {
          "base_uri": "https://localhost:8080/",
          "height": 221
        }
      },
      "source": [
        "df['Breed'].str.contains('MIX') # filtering"
      ],
      "execution_count": null,
      "outputs": [
        {
          "output_type": "execute_result",
          "data": {
            "text/plain": [
              "0        False\n",
              "1        False\n",
              "2         True\n",
              "3        False\n",
              "4         True\n",
              "         ...  \n",
              "97457     True\n",
              "97458    False\n",
              "97459    False\n",
              "97460    False\n",
              "97461    False\n",
              "Name: Breed, Length: 97462, dtype: bool"
            ]
          },
          "metadata": {
            "tags": []
          },
          "execution_count": 22
        }
      ]
    },
    {
      "cell_type": "markdown",
      "metadata": {
        "id": "X3_5pgbPEcJM"
      },
      "source": [
        "Series is like a column, Array is like a list"
      ]
    },
    {
      "cell_type": "code",
      "metadata": {
        "id": "-D_dEip1EG8a",
        "outputId": "0981bc0d-ba6a-462b-d2d6-8e3827d9902e",
        "colab": {
          "base_uri": "https://localhost:8080/",
          "height": 71
        }
      },
      "source": [
        "# Make a Series object that holds random numbers between 0 and 9\n",
        "random_numbers = pd.Series(pd.np.random.randint(0, 25, size=len(df)))"
      ],
      "execution_count": null,
      "outputs": [
        {
          "output_type": "stream",
          "text": [
            "/usr/local/lib/python3.6/dist-packages/ipykernel_launcher.py:2: FutureWarning: The pandas.np module is deprecated and will be removed from pandas in a future version. Import numpy directly instead\n",
            "  \n"
          ],
          "name": "stderr"
        }
      ]
    },
    {
      "cell_type": "code",
      "metadata": {
        "id": "kPvBhn80KCK-",
        "outputId": "dc343e8d-e079-4b57-98ad-addefb6b729a",
        "colab": {
          "base_uri": "https://localhost:8080/",
          "height": 156
        }
      },
      "source": [
        "numbers = pd.np.random.randint(0, 25, size=100) #saves as list without pd.Series\n",
        "print(numbers)"
      ],
      "execution_count": null,
      "outputs": [
        {
          "output_type": "stream",
          "text": [
            "[14  1  7 24 10  5 22 22 18 23 15 24 17 18 10 20 14 16 16 10 18 21 22 22\n",
            "  3  1 11 16  9  6  3 13 23 19  6 13  9 16  2 19 24  8  9 10 12 12 12 16\n",
            " 12  6 12 10 12  5 19 19 14  4  0  3 14 24 14 13 21 15  0  6  1 19 19 12\n",
            " 10 22 13 17 13  4  7  1  3 21 13  2  1  3  2  0  1 16 21 16  6  2 22 20\n",
            " 13  0  0  0]\n"
          ],
          "name": "stdout"
        },
        {
          "output_type": "stream",
          "text": [
            "/usr/local/lib/python3.6/dist-packages/ipykernel_launcher.py:1: FutureWarning: The pandas.np module is deprecated and will be removed from pandas in a future version. Import numpy directly instead\n",
            "  \"\"\"Entry point for launching an IPython kernel.\n"
          ],
          "name": "stderr"
        }
      ]
    },
    {
      "cell_type": "code",
      "metadata": {
        "id": "7kVSjuC9LWCc",
        "outputId": "94936b54-ec6d-43fc-dfa5-e238a82c585e",
        "colab": {
          "base_uri": "https://localhost:8080/",
          "height": 221
        }
      },
      "source": [
        "df['OwnerZip'].sort_values()"
      ],
      "execution_count": null,
      "outputs": [
        {
          "output_type": "execute_result",
          "data": {
            "text/plain": [
              "0        15001\n",
              "66219    15001\n",
              "66220    15001\n",
              "66221    15001\n",
              "66222    15001\n",
              "         ...  \n",
              "29859    16229\n",
              "97459    17821\n",
              "29860    19350\n",
              "97460    32828\n",
              "97461    32828\n",
              "Name: OwnerZip, Length: 97462, dtype: int64"
            ]
          },
          "metadata": {
            "tags": []
          },
          "execution_count": 30
        }
      ]
    },
    {
      "cell_type": "code",
      "metadata": {
        "id": "wYQ87hUNL5_k",
        "outputId": "fabd57ee-6b31-45d0-e8ba-a189f83f70c8",
        "colab": {
          "base_uri": "https://localhost:8080/",
          "height": 419
        }
      },
      "source": [
        "df.sort_values(by='OwnerZip', ascending=True)"
      ],
      "execution_count": null,
      "outputs": [
        {
          "output_type": "execute_result",
          "data": {
            "text/html": [
              "<div>\n",
              "<style scoped>\n",
              "    .dataframe tbody tr th:only-of-type {\n",
              "        vertical-align: middle;\n",
              "    }\n",
              "\n",
              "    .dataframe tbody tr th {\n",
              "        vertical-align: top;\n",
              "    }\n",
              "\n",
              "    .dataframe thead th {\n",
              "        text-align: right;\n",
              "    }\n",
              "</style>\n",
              "<table border=\"1\" class=\"dataframe\">\n",
              "  <thead>\n",
              "    <tr style=\"text-align: right;\">\n",
              "      <th></th>\n",
              "      <th>LicenseType</th>\n",
              "      <th>Breed</th>\n",
              "      <th>Color</th>\n",
              "      <th>DogName</th>\n",
              "      <th>OwnerZip</th>\n",
              "      <th>ExpYear</th>\n",
              "      <th>ValidDate</th>\n",
              "    </tr>\n",
              "  </thead>\n",
              "  <tbody>\n",
              "    <tr>\n",
              "      <th>0</th>\n",
              "      <td>Dog Individual Female</td>\n",
              "      <td>AM PIT BULL TERRIER</td>\n",
              "      <td>SPOTTED</td>\n",
              "      <td>BUTTER</td>\n",
              "      <td>15001</td>\n",
              "      <td>2007</td>\n",
              "      <td>2007-05-01 15:15:00</td>\n",
              "    </tr>\n",
              "    <tr>\n",
              "      <th>66219</th>\n",
              "      <td>Dog Individual Neutered Male</td>\n",
              "      <td>YORKSHIRE TERR MIX</td>\n",
              "      <td>WHITE/BLACK</td>\n",
              "      <td>CHEVY</td>\n",
              "      <td>15001</td>\n",
              "      <td>2009</td>\n",
              "      <td>2009-05-04 10:51:00</td>\n",
              "    </tr>\n",
              "    <tr>\n",
              "      <th>66220</th>\n",
              "      <td>Dog Individual Spayed Female</td>\n",
              "      <td>SHETLAND SHEEPDOG</td>\n",
              "      <td>WHITE/BLACK/BROWN</td>\n",
              "      <td>LACEY</td>\n",
              "      <td>15001</td>\n",
              "      <td>2009</td>\n",
              "      <td>2009-06-04 16:14:00</td>\n",
              "    </tr>\n",
              "    <tr>\n",
              "      <th>66221</th>\n",
              "      <td>Dog Individual Male</td>\n",
              "      <td>MALTESE</td>\n",
              "      <td>WHITE</td>\n",
              "      <td>BAILEY MARTIN</td>\n",
              "      <td>15001</td>\n",
              "      <td>2009</td>\n",
              "      <td>2009-02-03 15:05:00</td>\n",
              "    </tr>\n",
              "    <tr>\n",
              "      <th>66222</th>\n",
              "      <td>Dog Individual Spayed Female</td>\n",
              "      <td>MALTESE</td>\n",
              "      <td>WHITE</td>\n",
              "      <td>ANNIE MARTIN</td>\n",
              "      <td>15001</td>\n",
              "      <td>2009</td>\n",
              "      <td>2009-02-03 15:05:00</td>\n",
              "    </tr>\n",
              "    <tr>\n",
              "      <th>...</th>\n",
              "      <td>...</td>\n",
              "      <td>...</td>\n",
              "      <td>...</td>\n",
              "      <td>...</td>\n",
              "      <td>...</td>\n",
              "      <td>...</td>\n",
              "      <td>...</td>\n",
              "    </tr>\n",
              "    <tr>\n",
              "      <th>29859</th>\n",
              "      <td>Dog Individual Neutered Male</td>\n",
              "      <td>LABRADOR RETRIEVER</td>\n",
              "      <td>BLACK</td>\n",
              "      <td>SCOOBY</td>\n",
              "      <td>16229</td>\n",
              "      <td>2007</td>\n",
              "      <td>2007-03-06 08:59:00</td>\n",
              "    </tr>\n",
              "    <tr>\n",
              "      <th>97459</th>\n",
              "      <td>Dog Individual Male</td>\n",
              "      <td>MASTIFF</td>\n",
              "      <td>FAWN</td>\n",
              "      <td>MAXIMUS</td>\n",
              "      <td>17821</td>\n",
              "      <td>2009</td>\n",
              "      <td>2008-12-15 11:53:00</td>\n",
              "    </tr>\n",
              "    <tr>\n",
              "      <th>29860</th>\n",
              "      <td>Dog Individual Neutered Male</td>\n",
              "      <td>DACHSHUND</td>\n",
              "      <td>BLACK/TAN</td>\n",
              "      <td>PEPPER</td>\n",
              "      <td>19350</td>\n",
              "      <td>2007</td>\n",
              "      <td>2007-11-07 08:34:00</td>\n",
              "    </tr>\n",
              "    <tr>\n",
              "      <th>97460</th>\n",
              "      <td>Dog Individual Neutered Male</td>\n",
              "      <td>BEAGLE</td>\n",
              "      <td>WHITE/BLACK/BROWN</td>\n",
              "      <td>WALTER</td>\n",
              "      <td>32828</td>\n",
              "      <td>2009</td>\n",
              "      <td>2009-03-12 14:23:00</td>\n",
              "    </tr>\n",
              "    <tr>\n",
              "      <th>97461</th>\n",
              "      <td>Dog Individual Spayed Female</td>\n",
              "      <td>DALMATIAN</td>\n",
              "      <td>WHITE/BLACK</td>\n",
              "      <td>ROXY</td>\n",
              "      <td>32828</td>\n",
              "      <td>2009</td>\n",
              "      <td>2009-09-21 11:57:00</td>\n",
              "    </tr>\n",
              "  </tbody>\n",
              "</table>\n",
              "<p>97462 rows × 7 columns</p>\n",
              "</div>"
            ],
            "text/plain": [
              "                        LicenseType  ...           ValidDate\n",
              "0             Dog Individual Female  ... 2007-05-01 15:15:00\n",
              "66219  Dog Individual Neutered Male  ... 2009-05-04 10:51:00\n",
              "66220  Dog Individual Spayed Female  ... 2009-06-04 16:14:00\n",
              "66221           Dog Individual Male  ... 2009-02-03 15:05:00\n",
              "66222  Dog Individual Spayed Female  ... 2009-02-03 15:05:00\n",
              "...                             ...  ...                 ...\n",
              "29859  Dog Individual Neutered Male  ... 2007-03-06 08:59:00\n",
              "97459           Dog Individual Male  ... 2008-12-15 11:53:00\n",
              "29860  Dog Individual Neutered Male  ... 2007-11-07 08:34:00\n",
              "97460  Dog Individual Neutered Male  ... 2009-03-12 14:23:00\n",
              "97461  Dog Individual Spayed Female  ... 2009-09-21 11:57:00\n",
              "\n",
              "[97462 rows x 7 columns]"
            ]
          },
          "metadata": {
            "tags": []
          },
          "execution_count": 35
        }
      ]
    },
    {
      "cell_type": "code",
      "metadata": {
        "id": "3549_aVYMFsd",
        "outputId": "c8a2e216-9217-4c01-dd32-760905100bbc",
        "colab": {
          "base_uri": "https://localhost:8080/",
          "height": 221
        }
      },
      "source": [
        "df['Breed'].value_counts().sort_index()"
      ],
      "execution_count": null,
      "outputs": [
        {
          "output_type": "execute_result",
          "data": {
            "text/plain": [
              ".                        18\n",
              "AFFENPINSCHER             5\n",
              "AFGHAN HOUND             12\n",
              "AINU                      2\n",
              "AIREDALE TERRIER        187\n",
              "                       ... \n",
              "WHIPPET                  47\n",
              "WIREHAIR PT GRIFFON      19\n",
              "XOLOITZCUINTLI            1\n",
              "YORKSHIRE TERR MIX      469\n",
              "YORKSHIRE TERRIER      1700\n",
              "Name: Breed, Length: 291, dtype: int64"
            ]
          },
          "metadata": {
            "tags": []
          },
          "execution_count": 33
        }
      ]
    },
    {
      "cell_type": "markdown",
      "metadata": {
        "id": "hyicpekPMmF8"
      },
      "source": [
        "Problem Two¶\n",
        "* Show the DataFrame sorted by the ValidDate\n",
        "* Show the LicenseTypes, sorted descending\n",
        "* Show the DataFrame, sorted by ExpYear and ValidDate\n",
        "* Show the dog names, sorted by zip code"
      ]
    },
    {
      "cell_type": "code",
      "metadata": {
        "id": "IsiT3BFtMmyk",
        "outputId": "99928623-55c7-4fe4-d26f-7fd7991fb434",
        "colab": {
          "base_uri": "https://localhost:8080/",
          "height": 204
        }
      },
      "source": [
        "df.sort_values(by='ValidDate', ascending=True).head()"
      ],
      "execution_count": null,
      "outputs": [
        {
          "output_type": "execute_result",
          "data": {
            "text/html": [
              "<div>\n",
              "<style scoped>\n",
              "    .dataframe tbody tr th:only-of-type {\n",
              "        vertical-align: middle;\n",
              "    }\n",
              "\n",
              "    .dataframe tbody tr th {\n",
              "        vertical-align: top;\n",
              "    }\n",
              "\n",
              "    .dataframe thead th {\n",
              "        text-align: right;\n",
              "    }\n",
              "</style>\n",
              "<table border=\"1\" class=\"dataframe\">\n",
              "  <thead>\n",
              "    <tr style=\"text-align: right;\">\n",
              "      <th></th>\n",
              "      <th>LicenseType</th>\n",
              "      <th>Breed</th>\n",
              "      <th>Color</th>\n",
              "      <th>DogName</th>\n",
              "      <th>OwnerZip</th>\n",
              "      <th>ExpYear</th>\n",
              "      <th>ValidDate</th>\n",
              "    </tr>\n",
              "  </thead>\n",
              "  <tbody>\n",
              "    <tr>\n",
              "      <th>11400</th>\n",
              "      <td>Dog Individual Neutered Male</td>\n",
              "      <td>PARSON RUSSELL TERR</td>\n",
              "      <td>WHITE/BROWN</td>\n",
              "      <td>CHLOE</td>\n",
              "      <td>15122</td>\n",
              "      <td>2007</td>\n",
              "      <td>2006-12-12 09:00:00</td>\n",
              "    </tr>\n",
              "    <tr>\n",
              "      <th>14396</th>\n",
              "      <td>Dog Individual Neutered Male</td>\n",
              "      <td>COLLIE MIX</td>\n",
              "      <td>WHITE/BLACK</td>\n",
              "      <td>YOGI</td>\n",
              "      <td>15136</td>\n",
              "      <td>2007</td>\n",
              "      <td>2006-12-12 09:07:00</td>\n",
              "    </tr>\n",
              "    <tr>\n",
              "      <th>14438</th>\n",
              "      <td>Dog Individual Neutered Male</td>\n",
              "      <td>TERRIER MIX</td>\n",
              "      <td>WHITE/BROWN</td>\n",
              "      <td>ROCKY</td>\n",
              "      <td>15136</td>\n",
              "      <td>2007</td>\n",
              "      <td>2006-12-12 09:11:00</td>\n",
              "    </tr>\n",
              "    <tr>\n",
              "      <th>12900</th>\n",
              "      <td>Dog Individual Male</td>\n",
              "      <td>MIXED</td>\n",
              "      <td>BLACK</td>\n",
              "      <td>CHAMP</td>\n",
              "      <td>15131</td>\n",
              "      <td>2007</td>\n",
              "      <td>2006-12-12 09:15:00</td>\n",
              "    </tr>\n",
              "    <tr>\n",
              "      <th>12140</th>\n",
              "      <td>Dog Individual Female</td>\n",
              "      <td>LABRADOR RETRIEVER</td>\n",
              "      <td>YELLOW</td>\n",
              "      <td>SUGAR</td>\n",
              "      <td>15126</td>\n",
              "      <td>2007</td>\n",
              "      <td>2006-12-12 09:40:00</td>\n",
              "    </tr>\n",
              "  </tbody>\n",
              "</table>\n",
              "</div>"
            ],
            "text/plain": [
              "                        LicenseType  ...           ValidDate\n",
              "11400  Dog Individual Neutered Male  ... 2006-12-12 09:00:00\n",
              "14396  Dog Individual Neutered Male  ... 2006-12-12 09:07:00\n",
              "14438  Dog Individual Neutered Male  ... 2006-12-12 09:11:00\n",
              "12900           Dog Individual Male  ... 2006-12-12 09:15:00\n",
              "12140         Dog Individual Female  ... 2006-12-12 09:40:00\n",
              "\n",
              "[5 rows x 7 columns]"
            ]
          },
          "metadata": {
            "tags": []
          },
          "execution_count": 37
        }
      ]
    },
    {
      "cell_type": "code",
      "metadata": {
        "id": "jX1dtx6DOern",
        "outputId": "d3eeefef-5844-4605-c26e-60489a7ab6f0",
        "colab": {
          "base_uri": "https://localhost:8080/",
          "height": 204
        }
      },
      "source": [
        "df.sort_values(by='LicenseType', ascending=False).head()"
      ],
      "execution_count": null,
      "outputs": [
        {
          "output_type": "execute_result",
          "data": {
            "text/html": [
              "<div>\n",
              "<style scoped>\n",
              "    .dataframe tbody tr th:only-of-type {\n",
              "        vertical-align: middle;\n",
              "    }\n",
              "\n",
              "    .dataframe tbody tr th {\n",
              "        vertical-align: top;\n",
              "    }\n",
              "\n",
              "    .dataframe thead th {\n",
              "        text-align: right;\n",
              "    }\n",
              "</style>\n",
              "<table border=\"1\" class=\"dataframe\">\n",
              "  <thead>\n",
              "    <tr style=\"text-align: right;\">\n",
              "      <th></th>\n",
              "      <th>LicenseType</th>\n",
              "      <th>Breed</th>\n",
              "      <th>Color</th>\n",
              "      <th>DogName</th>\n",
              "      <th>OwnerZip</th>\n",
              "      <th>ExpYear</th>\n",
              "      <th>ValidDate</th>\n",
              "    </tr>\n",
              "  </thead>\n",
              "  <tbody>\n",
              "    <tr>\n",
              "      <th>26851</th>\n",
              "      <td>Dog Senior Citizen or Disability Spayed Female</td>\n",
              "      <td>POODLE MIN</td>\n",
              "      <td>WHITE</td>\n",
              "      <td>CINDY LEE</td>\n",
              "      <td>15237</td>\n",
              "      <td>2007</td>\n",
              "      <td>2007-04-10 10:53:00</td>\n",
              "    </tr>\n",
              "    <tr>\n",
              "      <th>22091</th>\n",
              "      <td>Dog Senior Citizen or Disability Spayed Female</td>\n",
              "      <td>LABRADOR RETRIEVER</td>\n",
              "      <td>BLACK</td>\n",
              "      <td>SAMMY</td>\n",
              "      <td>15221</td>\n",
              "      <td>2007</td>\n",
              "      <td>2007-01-12 11:31:00</td>\n",
              "    </tr>\n",
              "    <tr>\n",
              "      <th>31654</th>\n",
              "      <td>Dog Senior Citizen or Disability Spayed Female</td>\n",
              "      <td>CHIHUAHUA MIX</td>\n",
              "      <td>WHITE/TAN</td>\n",
              "      <td>ZEEBA</td>\n",
              "      <td>15025</td>\n",
              "      <td>2008</td>\n",
              "      <td>2007-12-18 07:39:00</td>\n",
              "    </tr>\n",
              "    <tr>\n",
              "      <th>31653</th>\n",
              "      <td>Dog Senior Citizen or Disability Spayed Female</td>\n",
              "      <td>MIXED</td>\n",
              "      <td>WHITE/BLACK</td>\n",
              "      <td>RAKEISHA</td>\n",
              "      <td>15025</td>\n",
              "      <td>2008</td>\n",
              "      <td>2007-12-18 07:39:00</td>\n",
              "    </tr>\n",
              "    <tr>\n",
              "      <th>31652</th>\n",
              "      <td>Dog Senior Citizen or Disability Spayed Female</td>\n",
              "      <td>MIXED</td>\n",
              "      <td>SPOTTED</td>\n",
              "      <td>ZOE</td>\n",
              "      <td>15025</td>\n",
              "      <td>2008</td>\n",
              "      <td>2007-12-18 07:39:00</td>\n",
              "    </tr>\n",
              "  </tbody>\n",
              "</table>\n",
              "</div>"
            ],
            "text/plain": [
              "                                          LicenseType  ...           ValidDate\n",
              "26851  Dog Senior Citizen or Disability Spayed Female  ... 2007-04-10 10:53:00\n",
              "22091  Dog Senior Citizen or Disability Spayed Female  ... 2007-01-12 11:31:00\n",
              "31654  Dog Senior Citizen or Disability Spayed Female  ... 2007-12-18 07:39:00\n",
              "31653  Dog Senior Citizen or Disability Spayed Female  ... 2007-12-18 07:39:00\n",
              "31652  Dog Senior Citizen or Disability Spayed Female  ... 2007-12-18 07:39:00\n",
              "\n",
              "[5 rows x 7 columns]"
            ]
          },
          "metadata": {
            "tags": []
          },
          "execution_count": 38
        }
      ]
    },
    {
      "cell_type": "code",
      "metadata": {
        "id": "numuFJz5PCVb",
        "outputId": "6f0ec205-6be5-4088-f3e3-d4aeaa6660a9",
        "colab": {
          "base_uri": "https://localhost:8080/",
          "height": 204
        }
      },
      "source": [
        "df.sort_values(by=['ExpYear', 'ValidDate']).head()"
      ],
      "execution_count": null,
      "outputs": [
        {
          "output_type": "execute_result",
          "data": {
            "text/html": [
              "<div>\n",
              "<style scoped>\n",
              "    .dataframe tbody tr th:only-of-type {\n",
              "        vertical-align: middle;\n",
              "    }\n",
              "\n",
              "    .dataframe tbody tr th {\n",
              "        vertical-align: top;\n",
              "    }\n",
              "\n",
              "    .dataframe thead th {\n",
              "        text-align: right;\n",
              "    }\n",
              "</style>\n",
              "<table border=\"1\" class=\"dataframe\">\n",
              "  <thead>\n",
              "    <tr style=\"text-align: right;\">\n",
              "      <th></th>\n",
              "      <th>LicenseType</th>\n",
              "      <th>Breed</th>\n",
              "      <th>Color</th>\n",
              "      <th>DogName</th>\n",
              "      <th>OwnerZip</th>\n",
              "      <th>ExpYear</th>\n",
              "      <th>ValidDate</th>\n",
              "    </tr>\n",
              "  </thead>\n",
              "  <tbody>\n",
              "    <tr>\n",
              "      <th>11400</th>\n",
              "      <td>Dog Individual Neutered Male</td>\n",
              "      <td>PARSON RUSSELL TERR</td>\n",
              "      <td>WHITE/BROWN</td>\n",
              "      <td>CHLOE</td>\n",
              "      <td>15122</td>\n",
              "      <td>2007</td>\n",
              "      <td>2006-12-12 09:00:00</td>\n",
              "    </tr>\n",
              "    <tr>\n",
              "      <th>14396</th>\n",
              "      <td>Dog Individual Neutered Male</td>\n",
              "      <td>COLLIE MIX</td>\n",
              "      <td>WHITE/BLACK</td>\n",
              "      <td>YOGI</td>\n",
              "      <td>15136</td>\n",
              "      <td>2007</td>\n",
              "      <td>2006-12-12 09:07:00</td>\n",
              "    </tr>\n",
              "    <tr>\n",
              "      <th>14438</th>\n",
              "      <td>Dog Individual Neutered Male</td>\n",
              "      <td>TERRIER MIX</td>\n",
              "      <td>WHITE/BROWN</td>\n",
              "      <td>ROCKY</td>\n",
              "      <td>15136</td>\n",
              "      <td>2007</td>\n",
              "      <td>2006-12-12 09:11:00</td>\n",
              "    </tr>\n",
              "    <tr>\n",
              "      <th>12900</th>\n",
              "      <td>Dog Individual Male</td>\n",
              "      <td>MIXED</td>\n",
              "      <td>BLACK</td>\n",
              "      <td>CHAMP</td>\n",
              "      <td>15131</td>\n",
              "      <td>2007</td>\n",
              "      <td>2006-12-12 09:15:00</td>\n",
              "    </tr>\n",
              "    <tr>\n",
              "      <th>6448</th>\n",
              "      <td>Dog Individual Spayed Female</td>\n",
              "      <td>LABRADOR RETRIEVER</td>\n",
              "      <td>YELLOW</td>\n",
              "      <td>SADIE</td>\n",
              "      <td>15090</td>\n",
              "      <td>2007</td>\n",
              "      <td>2006-12-12 09:40:00</td>\n",
              "    </tr>\n",
              "  </tbody>\n",
              "</table>\n",
              "</div>"
            ],
            "text/plain": [
              "                        LicenseType  ...           ValidDate\n",
              "11400  Dog Individual Neutered Male  ... 2006-12-12 09:00:00\n",
              "14396  Dog Individual Neutered Male  ... 2006-12-12 09:07:00\n",
              "14438  Dog Individual Neutered Male  ... 2006-12-12 09:11:00\n",
              "12900           Dog Individual Male  ... 2006-12-12 09:15:00\n",
              "6448   Dog Individual Spayed Female  ... 2006-12-12 09:40:00\n",
              "\n",
              "[5 rows x 7 columns]"
            ]
          },
          "metadata": {
            "tags": []
          },
          "execution_count": 40
        }
      ]
    },
    {
      "cell_type": "code",
      "metadata": {
        "id": "pO_j1AJTPJdD",
        "outputId": "31d3644c-aa19-48db-ae9e-9626af85a2c3",
        "colab": {
          "base_uri": "https://localhost:8080/",
          "height": 119
        }
      },
      "source": [
        "dogname = df.sort_values(by='OwnerZip')\n",
        "dogname['DogName'].head()"
      ],
      "execution_count": null,
      "outputs": [
        {
          "output_type": "execute_result",
          "data": {
            "text/plain": [
              "0               BUTTER\n",
              "66219            CHEVY\n",
              "66220            LACEY\n",
              "66221    BAILEY MARTIN\n",
              "66222     ANNIE MARTIN\n",
              "Name: DogName, dtype: object"
            ]
          },
          "metadata": {
            "tags": []
          },
          "execution_count": 51
        }
      ]
    },
    {
      "cell_type": "code",
      "metadata": {
        "id": "mPkhVxtSRsli",
        "outputId": "c7765ac1-323b-4f96-a228-59bf98abc4de",
        "colab": {
          "base_uri": "https://localhost:8080/",
          "height": 450
        }
      },
      "source": [
        "df.groupby('Color').count()"
      ],
      "execution_count": null,
      "outputs": [
        {
          "output_type": "execute_result",
          "data": {
            "text/html": [
              "<div>\n",
              "<style scoped>\n",
              "    .dataframe tbody tr th:only-of-type {\n",
              "        vertical-align: middle;\n",
              "    }\n",
              "\n",
              "    .dataframe tbody tr th {\n",
              "        vertical-align: top;\n",
              "    }\n",
              "\n",
              "    .dataframe thead th {\n",
              "        text-align: right;\n",
              "    }\n",
              "</style>\n",
              "<table border=\"1\" class=\"dataframe\">\n",
              "  <thead>\n",
              "    <tr style=\"text-align: right;\">\n",
              "      <th></th>\n",
              "      <th>LicenseType</th>\n",
              "      <th>Breed</th>\n",
              "      <th>DogName</th>\n",
              "      <th>OwnerZip</th>\n",
              "      <th>ExpYear</th>\n",
              "      <th>ValidDate</th>\n",
              "    </tr>\n",
              "    <tr>\n",
              "      <th>Color</th>\n",
              "      <th></th>\n",
              "      <th></th>\n",
              "      <th></th>\n",
              "      <th></th>\n",
              "      <th></th>\n",
              "      <th></th>\n",
              "    </tr>\n",
              "  </thead>\n",
              "  <tbody>\n",
              "    <tr>\n",
              "      <th>.</th>\n",
              "      <td>489</td>\n",
              "      <td>489</td>\n",
              "      <td>489</td>\n",
              "      <td>489</td>\n",
              "      <td>489</td>\n",
              "      <td>482</td>\n",
              "    </tr>\n",
              "    <tr>\n",
              "      <th>APRICOT</th>\n",
              "      <td>392</td>\n",
              "      <td>392</td>\n",
              "      <td>392</td>\n",
              "      <td>392</td>\n",
              "      <td>392</td>\n",
              "      <td>389</td>\n",
              "    </tr>\n",
              "    <tr>\n",
              "      <th>BEIGE</th>\n",
              "      <td>314</td>\n",
              "      <td>314</td>\n",
              "      <td>314</td>\n",
              "      <td>314</td>\n",
              "      <td>314</td>\n",
              "      <td>312</td>\n",
              "    </tr>\n",
              "    <tr>\n",
              "      <th>BLACK</th>\n",
              "      <td>15916</td>\n",
              "      <td>15916</td>\n",
              "      <td>15916</td>\n",
              "      <td>15916</td>\n",
              "      <td>15916</td>\n",
              "      <td>15861</td>\n",
              "    </tr>\n",
              "    <tr>\n",
              "      <th>BLACK WITH WHITE</th>\n",
              "      <td>119</td>\n",
              "      <td>119</td>\n",
              "      <td>119</td>\n",
              "      <td>119</td>\n",
              "      <td>119</td>\n",
              "      <td>119</td>\n",
              "    </tr>\n",
              "    <tr>\n",
              "      <th>...</th>\n",
              "      <td>...</td>\n",
              "      <td>...</td>\n",
              "      <td>...</td>\n",
              "      <td>...</td>\n",
              "      <td>...</td>\n",
              "      <td>...</td>\n",
              "    </tr>\n",
              "    <tr>\n",
              "      <th>WHITE/ORANGE</th>\n",
              "      <td>12</td>\n",
              "      <td>12</td>\n",
              "      <td>12</td>\n",
              "      <td>12</td>\n",
              "      <td>12</td>\n",
              "      <td>12</td>\n",
              "    </tr>\n",
              "    <tr>\n",
              "      <th>WHITE/RED</th>\n",
              "      <td>610</td>\n",
              "      <td>610</td>\n",
              "      <td>610</td>\n",
              "      <td>610</td>\n",
              "      <td>610</td>\n",
              "      <td>604</td>\n",
              "    </tr>\n",
              "    <tr>\n",
              "      <th>WHITE/TAN</th>\n",
              "      <td>1205</td>\n",
              "      <td>1205</td>\n",
              "      <td>1205</td>\n",
              "      <td>1205</td>\n",
              "      <td>1205</td>\n",
              "      <td>1202</td>\n",
              "    </tr>\n",
              "    <tr>\n",
              "      <th>WHITE/YELLOW</th>\n",
              "      <td>209</td>\n",
              "      <td>209</td>\n",
              "      <td>209</td>\n",
              "      <td>209</td>\n",
              "      <td>209</td>\n",
              "      <td>208</td>\n",
              "    </tr>\n",
              "    <tr>\n",
              "      <th>YELLOW</th>\n",
              "      <td>2567</td>\n",
              "      <td>2567</td>\n",
              "      <td>2567</td>\n",
              "      <td>2567</td>\n",
              "      <td>2567</td>\n",
              "      <td>2560</td>\n",
              "    </tr>\n",
              "  </tbody>\n",
              "</table>\n",
              "<p>80 rows × 6 columns</p>\n",
              "</div>"
            ],
            "text/plain": [
              "                  LicenseType  Breed  DogName  OwnerZip  ExpYear  ValidDate\n",
              "Color                                                                      \n",
              ".                         489    489      489       489      489        482\n",
              "APRICOT                   392    392      392       392      392        389\n",
              "BEIGE                     314    314      314       314      314        312\n",
              "BLACK                   15916  15916    15916     15916    15916      15861\n",
              "BLACK WITH WHITE          119    119      119       119      119        119\n",
              "...                       ...    ...      ...       ...      ...        ...\n",
              "WHITE/ORANGE               12     12       12        12       12         12\n",
              "WHITE/RED                 610    610      610       610      610        604\n",
              "WHITE/TAN                1205   1205     1205      1205     1205       1202\n",
              "WHITE/YELLOW              209    209      209       209      209        208\n",
              "YELLOW                   2567   2567     2567      2567     2567       2560\n",
              "\n",
              "[80 rows x 6 columns]"
            ]
          },
          "metadata": {
            "tags": []
          },
          "execution_count": 59
        }
      ]
    }
  ]
}